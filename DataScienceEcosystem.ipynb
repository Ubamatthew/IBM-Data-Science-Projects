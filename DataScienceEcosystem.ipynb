{
 "cells": [
  {
   "cell_type": "markdown",
   "id": "9bfc9355-5db0-45d7-a830-77ade0478ad6",
   "metadata": {},
   "source": [
    "# Data Science Tools and Ecosystem"
   ]
  },
  {
   "cell_type": "markdown",
   "id": "725bbc6e-430a-4d67-b146-14cef7dbac3d",
   "metadata": {},
   "source": [
    "## Introduction"
   ]
  },
  {
   "cell_type": "markdown",
   "id": "5b203b0b-308d-41e9-a49c-39d0c7e4923e",
   "metadata": {},
   "source": [
    "In this notebook, Data Science Tools and Ecosystem are summarized."
   ]
  },
  {
   "cell_type": "markdown",
   "id": "14ca2d34-dfbc-4895-bba5-63c68e0de958",
   "metadata": {},
   "source": [
    "Some of the popular languages that Data Scientists use are:\n",
    "\n",
    "1. Python\n",
    "2. R\n",
    "3. SQL\n",
    "4. Scala\n",
    "5. Java\n",
    "6. Visual Basic"
   ]
  },
  {
   "cell_type": "markdown",
   "id": "26ed4e16-b7fc-4c17-872e-c8e9c157eb13",
   "metadata": {},
   "source": [
    "Some of the commonly used libraries used by Data Scientists include:\n",
    "\n",
    "1. Scientific Computing Libraries. Examples are\n",
    "   - Pandas\n",
    "   - Numpy\n",
    "2. Visualization Libraries. Examples are\n",
    "   - Matplotlib\n",
    "   - Seaborn\n",
    "3. Machine Learning and Deep Learning Libraries. Examples are\n",
    "   - Scikit learn\n",
    "   - Keras\n",
    "4. Deep Learning Libraries. Examples are\n",
    "   - Tensor Flow\n",
    "   - PyTouch\n",
    "5. Scalar Libraries. Examples are\n",
    "   - Vegas\n",
    "   - Big Dl"
   ]
  },
  {
   "cell_type": "markdown",
   "id": "b0e23b93-fcaf-410b-a13a-d2c5b7657fc8",
   "metadata": {},
   "source": [
    "|Data Science Tools|\n",
    "|------------------|\n",
    "|Apache Spark      |\n",
    "|Flink             |\n",
    "|Ray               |"
   ]
  },
  {
   "cell_type": "markdown",
   "id": "caed3590-9e39-43f5-8b0e-3b2c28bc807e",
   "metadata": {},
   "source": [
    "### Below are a few examples of evaluating arithmetic expressions in Python"
   ]
  },
  {
   "cell_type": "code",
   "execution_count": 5,
   "id": "5adc463f-686d-4cf7-91ff-5c39a47009d2",
   "metadata": {},
   "outputs": [
    {
     "name": "stdout",
     "output_type": "stream",
     "text": [
      "17\n"
     ]
    }
   ],
   "source": [
    "# This a simple arithmetic expression to mutiply then add integers\n",
    "\n",
    "A=3\n",
    "B=4\n",
    "C=5\n",
    "D=(A*B)+C\n",
    "print(D)"
   ]
  },
  {
   "cell_type": "code",
   "execution_count": 7,
   "id": "e4682a8e-917c-481e-b761-7c43e948bfdd",
   "metadata": {},
   "outputs": [
    {
     "name": "stdout",
     "output_type": "stream",
     "text": [
      "3.3333333333333335\n"
     ]
    }
   ],
   "source": [
    "# This will convert 200 minutes to hours by diving by 60\n",
    "\n",
    "# Let\n",
    "Time_in_Minutes = 200\n",
    "Minutes_in_1_hour = 60\n",
    "\n",
    "Time_in_Hour = Time_in_Minutes/Minutes_in_1_hour\n",
    "\n",
    "print (Time_in_Hour)"
   ]
  },
  {
   "cell_type": "markdown",
   "id": "7ad82ebd-89ae-4c51-85dd-c4c301f5f5dd",
   "metadata": {},
   "source": [
    "## **Objectives:**\n",
    "\n",
    "- Popular languages used by data scientists\n",
    "- Commonly used libraries used by data scientists\n",
    "- Data science tools\n",
    "- Some evaluating arithematic expressions in python"
   ]
  },
  {
   "cell_type": "markdown",
   "id": "498b4d1d-f19e-4261-8671-fd9086969fc1",
   "metadata": {},
   "source": [
    "## Author\n",
    "Uba Matthew Ndubuisi"
   ]
  },
  {
   "cell_type": "code",
   "execution_count": null,
   "id": "878e6766-ae1b-478c-984a-54fb82beb682",
   "metadata": {},
   "outputs": [],
   "source": []
  }
 ],
 "metadata": {
  "kernelspec": {
   "display_name": "Python 3 (ipykernel)",
   "language": "python",
   "name": "python3"
  },
  "language_info": {
   "codemirror_mode": {
    "name": "ipython",
    "version": 3
   },
   "file_extension": ".py",
   "mimetype": "text/x-python",
   "name": "python",
   "nbconvert_exporter": "python",
   "pygments_lexer": "ipython3",
   "version": "3.11.5"
  }
 },
 "nbformat": 4,
 "nbformat_minor": 5
}
